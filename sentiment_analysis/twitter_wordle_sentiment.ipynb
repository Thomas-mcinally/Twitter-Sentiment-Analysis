{
 "cells": [
  {
   "cell_type": "code",
   "execution_count": 1,
   "metadata": {},
   "outputs": [],
   "source": [
    "import pandas as pd"
   ]
  },
  {
   "cell_type": "code",
   "execution_count": 3,
   "metadata": {},
   "outputs": [
    {
     "data": {
      "text/html": [
       "<div>\n",
       "<style scoped>\n",
       "    .dataframe tbody tr th:only-of-type {\n",
       "        vertical-align: middle;\n",
       "    }\n",
       "\n",
       "    .dataframe tbody tr th {\n",
       "        vertical-align: top;\n",
       "    }\n",
       "\n",
       "    .dataframe thead th {\n",
       "        text-align: right;\n",
       "    }\n",
       "</style>\n",
       "<table border=\"1\" class=\"dataframe\">\n",
       "  <thead>\n",
       "    <tr style=\"text-align: right;\">\n",
       "      <th></th>\n",
       "      <th>datetime</th>\n",
       "      <th>text</th>\n",
       "      <th>retweet_count</th>\n",
       "      <th>reply_count</th>\n",
       "      <th>like_count</th>\n",
       "    </tr>\n",
       "  </thead>\n",
       "  <tbody>\n",
       "    <tr>\n",
       "      <th>0</th>\n",
       "      <td>2022-01-28 23:59:59+00:00</td>\n",
       "      <td>Wordle 223 5/6\\n\\n⬛⬛⬛⬛⬛\\n🟨🟩⬛⬛⬛\\n⬛🟩🟩⬛⬛\\n⬛🟩🟩🟩🟩\\n...</td>\n",
       "      <td>0</td>\n",
       "      <td>0</td>\n",
       "      <td>1</td>\n",
       "    </tr>\n",
       "    <tr>\n",
       "      <th>1</th>\n",
       "      <td>2022-01-28 23:59:58+00:00</td>\n",
       "      <td>Wordle 224 5/6\\n\\n⬜🟨⬜⬜🟨\\n🟨🟩⬜🟨⬜\\n⬜🟩🟩⬜🟩\\n⬜🟩🟩🟩🟩\\n...</td>\n",
       "      <td>0</td>\n",
       "      <td>0</td>\n",
       "      <td>0</td>\n",
       "    </tr>\n",
       "    <tr>\n",
       "      <th>2</th>\n",
       "      <td>2022-01-28 23:59:58+00:00</td>\n",
       "      <td>Wordle 224 4/6*\\n\\n⬜🟨⬜⬜🟨\\n⬜🟩🟩⬜🟩\\n⬜🟩🟩🟩🟩\\n🟩🟩🟩🟩🟩\\...</td>\n",
       "      <td>0</td>\n",
       "      <td>1</td>\n",
       "      <td>1</td>\n",
       "    </tr>\n",
       "    <tr>\n",
       "      <th>3</th>\n",
       "      <td>2022-01-28 23:59:58+00:00</td>\n",
       "      <td>Wordle 224 5/6\\n\\n⬜🟩🟩⬜⬜\\n⬜🟨🟨⬜⬜\\n🟨🟩🟩⬜⬜\\n⬜🟩🟩⬜🟩\\n...</td>\n",
       "      <td>0</td>\n",
       "      <td>0</td>\n",
       "      <td>1</td>\n",
       "    </tr>\n",
       "    <tr>\n",
       "      <th>4</th>\n",
       "      <td>2022-01-28 23:59:57+00:00</td>\n",
       "      <td>@Sako_506 Wordle (ES) #22 2/6\\n\\n⬜⬜🟩🟨🟩\\n🟩🟩🟩🟩🟩\\...</td>\n",
       "      <td>0</td>\n",
       "      <td>1</td>\n",
       "      <td>0</td>\n",
       "    </tr>\n",
       "  </tbody>\n",
       "</table>\n",
       "</div>"
      ],
      "text/plain": [
       "                    datetime  \\\n",
       "0  2022-01-28 23:59:59+00:00   \n",
       "1  2022-01-28 23:59:58+00:00   \n",
       "2  2022-01-28 23:59:58+00:00   \n",
       "3  2022-01-28 23:59:58+00:00   \n",
       "4  2022-01-28 23:59:57+00:00   \n",
       "\n",
       "                                                text  retweet_count  \\\n",
       "0  Wordle 223 5/6\\n\\n⬛⬛⬛⬛⬛\\n🟨🟩⬛⬛⬛\\n⬛🟩🟩⬛⬛\\n⬛🟩🟩🟩🟩\\n...              0   \n",
       "1  Wordle 224 5/6\\n\\n⬜🟨⬜⬜🟨\\n🟨🟩⬜🟨⬜\\n⬜🟩🟩⬜🟩\\n⬜🟩🟩🟩🟩\\n...              0   \n",
       "2  Wordle 224 4/6*\\n\\n⬜🟨⬜⬜🟨\\n⬜🟩🟩⬜🟩\\n⬜🟩🟩🟩🟩\\n🟩🟩🟩🟩🟩\\...              0   \n",
       "3  Wordle 224 5/6\\n\\n⬜🟩🟩⬜⬜\\n⬜🟨🟨⬜⬜\\n🟨🟩🟩⬜⬜\\n⬜🟩🟩⬜🟩\\n...              0   \n",
       "4  @Sako_506 Wordle (ES) #22 2/6\\n\\n⬜⬜🟩🟨🟩\\n🟩🟩🟩🟩🟩\\...              0   \n",
       "\n",
       "   reply_count  like_count  \n",
       "0            0           1  \n",
       "1            0           0  \n",
       "2            1           1  \n",
       "3            0           1  \n",
       "4            1           0  "
      ]
     },
     "execution_count": 3,
     "metadata": {},
     "output_type": "execute_result"
    }
   ],
   "source": [
    "df = pd.read_csv('wordle_v1.csv')\n",
    "df.head()"
   ]
  },
  {
   "cell_type": "code",
   "execution_count": null,
   "metadata": {},
   "outputs": [],
   "source": []
  }
 ],
 "metadata": {
  "interpreter": {
   "hash": "b89b5cfaba6639976dc87ff2fec6d58faec662063367e2c229c520fe71072417"
  },
  "kernelspec": {
   "display_name": "Python 3.10.1 64-bit",
   "language": "python",
   "name": "python3"
  },
  "language_info": {
   "codemirror_mode": {
    "name": "ipython",
    "version": 3
   },
   "file_extension": ".py",
   "mimetype": "text/x-python",
   "name": "python",
   "nbconvert_exporter": "python",
   "pygments_lexer": "ipython3",
   "version": "3.10.1"
  },
  "orig_nbformat": 4
 },
 "nbformat": 4,
 "nbformat_minor": 2
}
